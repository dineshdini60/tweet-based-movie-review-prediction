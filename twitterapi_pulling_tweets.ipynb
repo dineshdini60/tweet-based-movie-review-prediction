{
 "cells": [
  {
   "cell_type": "code",
   "execution_count": 57,
   "metadata": {},
   "outputs": [],
   "source": [
    "from TwitterAPI import TwitterAPI\n",
    "import pandas as pd\n",
    "import time\n",
    "import numpy as np\n",
    "#!/usr/bin/env python\n",
    "# -*- coding: utf-8 -*-\n"
   ]
  },
  {
   "cell_type": "code",
   "execution_count": 46,
   "metadata": {},
   "outputs": [],
   "source": [
    "#one can get these keys by creating a  twitter application link:- https://apps.twitter.com/\n",
    "consumer_key  = 'XXX'\n",
    "consumer_secret  = 'XXX'\n",
    "access_token_key ='XXX'\n",
    "access_token_secret = 'XXX'\n",
    "\n",
    "api = TwitterAPI(consumer_key, consumer_secret, access_token_key, access_token_secret)"
   ]
  },
  {
   "cell_type": "code",
   "execution_count": 47,
   "metadata": {},
   "outputs": [
    {
     "name": "stdout",
     "output_type": "stream",
     "text": [
      "403\n"
     ]
    }
   ],
   "source": [
    "#tweet from your account check connection\n",
    "#r = api.request('statuses/update', {'status':'This is a tweet!'})\n",
    "#print(r.status_code)"
   ]
  },
  {
   "cell_type": "code",
   "execution_count": 48,
   "metadata": {},
   "outputs": [
    {
     "name": "stdout",
     "output_type": "stream",
     "text": [
      "{\"errors\":[{\"code\":144,\"message\":\"No status found with that ID.\"}]}\n"
     ]
    }
   ],
   "source": [
    "#get tweets if u know the id\n",
    "r = api.request('statuses/show/:%d' % 1)\n",
    "print(r.text)"
   ]
  },
  {
   "cell_type": "code",
   "execution_count": 49,
   "metadata": {},
   "outputs": [
    {
     "name": "stdout",
     "output_type": "stream",
     "text": [
      "{'created_at': 'Wed May 02 19:30:18 +0000 2018', 'id': 991761820128985088, 'id_str': '991761820128985088', 'text': 'RT @itsofficialtazz: Before &amp; After Watchin Infinity War😩😩 follow me on #cheez https://t.co/9RtuyBCl5U', 'truncated': False, 'entities': {'hashtags': [{'text': 'cheez', 'indices': [76, 82]}], 'symbols': [], 'user_mentions': [{'screen_name': 'itsofficialtazz', 'name': 'Tazz', 'id': 612249284, 'id_str': '612249284', 'indices': [3, 19]}], 'urls': [], 'media': [{'id': 991399629089484800, 'id_str': '991399629089484800', 'indices': [83, 106], 'media_url': 'http://pbs.twimg.com/ext_tw_video_thumb/991399629089484800/pu/img/UxDiZZMOrzwNWPZV.jpg', 'media_url_https': 'https://pbs.twimg.com/ext_tw_video_thumb/991399629089484800/pu/img/UxDiZZMOrzwNWPZV.jpg', 'url': 'https://t.co/9RtuyBCl5U', 'display_url': 'pic.twitter.com/9RtuyBCl5U', 'expanded_url': 'https://twitter.com/itsofficialtazz/status/991399901325156353/video/1', 'type': 'photo', 'sizes': {'thumb': {'w': 150, 'h': 150, 'resize': 'crop'}, 'small': {'w': 383, 'h': 680, 'resize': 'fit'}, 'large': {'w': 720, 'h': 1280, 'resize': 'fit'}, 'medium': {'w': 675, 'h': 1200, 'resize': 'fit'}}, 'source_status_id': 991399901325156353, 'source_status_id_str': '991399901325156353', 'source_user_id': 612249284, 'source_user_id_str': '612249284'}]}, 'extended_entities': {'media': [{'id': 991399629089484800, 'id_str': '991399629089484800', 'indices': [83, 106], 'media_url': 'http://pbs.twimg.com/ext_tw_video_thumb/991399629089484800/pu/img/UxDiZZMOrzwNWPZV.jpg', 'media_url_https': 'https://pbs.twimg.com/ext_tw_video_thumb/991399629089484800/pu/img/UxDiZZMOrzwNWPZV.jpg', 'url': 'https://t.co/9RtuyBCl5U', 'display_url': 'pic.twitter.com/9RtuyBCl5U', 'expanded_url': 'https://twitter.com/itsofficialtazz/status/991399901325156353/video/1', 'type': 'video', 'sizes': {'thumb': {'w': 150, 'h': 150, 'resize': 'crop'}, 'small': {'w': 383, 'h': 680, 'resize': 'fit'}, 'large': {'w': 720, 'h': 1280, 'resize': 'fit'}, 'medium': {'w': 675, 'h': 1200, 'resize': 'fit'}}, 'source_status_id': 991399901325156353, 'source_status_id_str': '991399901325156353', 'source_user_id': 612249284, 'source_user_id_str': '612249284', 'video_info': {'aspect_ratio': [9, 16], 'duration_millis': 15125, 'variants': [{'content_type': 'application/x-mpegURL', 'url': 'https://video.twimg.com/ext_tw_video/991399629089484800/pu/pl/nohHRuwdSWsqWvRv.m3u8?tag=1'}, {'bitrate': 2176000, 'content_type': 'video/mp4', 'url': 'https://video.twimg.com/ext_tw_video/991399629089484800/pu/vid/720x1280/XaksqNaVGSAfDGTX.mp4?tag=1'}, {'bitrate': 832000, 'content_type': 'video/mp4', 'url': 'https://video.twimg.com/ext_tw_video/991399629089484800/pu/vid/360x640/d4pldRC6wVW9nOLr.mp4?tag=1'}, {'bitrate': 256000, 'content_type': 'video/mp4', 'url': 'https://video.twimg.com/ext_tw_video/991399629089484800/pu/vid/180x320/GEolIZj5__F9lX2S.mp4?tag=1'}]}, 'additional_media_info': {'monetizable': False, 'source_user': {'id': 612249284, 'id_str': '612249284', 'name': 'Tazz', 'screen_name': 'itsofficialtazz', 'location': 'Los Angeles, CA', 'description': '20 (Actor/Comedian) #WOLFGRAPHIC🐺 Business email:tazzforeal19@gmail.com', 'url': 'https://t.co/BrN9u1bAXP', 'entities': {'url': {'urls': [{'url': 'https://t.co/BrN9u1bAXP', 'expanded_url': 'https://www.youtube.com/channel/UCgLCrI3sdpFuI8tTMXvrQMA', 'display_url': 'youtube.com/channel/UCgLCr…', 'indices': [0, 23]}]}, 'description': {'urls': []}}, 'protected': False, 'followers_count': 6044, 'friends_count': 54, 'listed_count': 6, 'created_at': 'Tue Jun 19 03:59:56 +0000 2012', 'favourites_count': 1439, 'utc_offset': -25200, 'time_zone': 'Pacific Time (US & Canada)', 'geo_enabled': True, 'verified': False, 'statuses_count': 2514, 'lang': 'en', 'contributors_enabled': False, 'is_translator': False, 'is_translation_enabled': False, 'profile_background_color': '000000', 'profile_background_image_url': 'http://abs.twimg.com/images/themes/theme1/bg.png', 'profile_background_image_url_https': 'https://abs.twimg.com/images/themes/theme1/bg.png', 'profile_background_tile': False, 'profile_image_url': 'http://pbs.twimg.com/profile_images/985012782830678016/9US71Btj_normal.jpg', 'profile_image_url_https': 'https://pbs.twimg.com/profile_images/985012782830678016/9US71Btj_normal.jpg', 'profile_banner_url': 'https://pbs.twimg.com/profile_banners/612249284/1453258797', 'profile_link_color': '1B95E0', 'profile_sidebar_border_color': '000000', 'profile_sidebar_fill_color': '000000', 'profile_text_color': '000000', 'profile_use_background_image': False, 'has_extended_profile': True, 'default_profile': False, 'default_profile_image': False, 'following': False, 'follow_request_sent': False, 'notifications': False, 'translator_type': 'none'}}}]}, 'metadata': {'iso_language_code': 'en', 'result_type': 'recent'}, 'source': '<a href=\"http://twitter.com/download/android\" rel=\"nofollow\">Twitter for Android</a>', 'in_reply_to_status_id': None, 'in_reply_to_status_id_str': None, 'in_reply_to_user_id': None, 'in_reply_to_user_id_str': None, 'in_reply_to_screen_name': None, 'user': {'id': 734801458130997249, 'id_str': '734801458130997249', 'name': 'DREMWXRKZ', 'screen_name': 'Derrickbivens2', 'location': '', 'description': '', 'url': None, 'entities': {'description': {'urls': []}}, 'protected': False, 'followers_count': 14, 'friends_count': 128, 'listed_count': 0, 'created_at': 'Mon May 23 17:41:34 +0000 2016', 'favourites_count': 91, 'utc_offset': None, 'time_zone': None, 'geo_enabled': False, 'verified': False, 'statuses_count': 85, 'lang': 'en', 'contributors_enabled': False, 'is_translator': False, 'is_translation_enabled': False, 'profile_background_color': 'F5F8FA', 'profile_background_image_url': None, 'profile_background_image_url_https': None, 'profile_background_tile': False, 'profile_image_url': 'http://pbs.twimg.com/profile_images/858350764426616833/DG_Ssnvx_normal.jpg', 'profile_image_url_https': 'https://pbs.twimg.com/profile_images/858350764426616833/DG_Ssnvx_normal.jpg', 'profile_banner_url': 'https://pbs.twimg.com/profile_banners/734801458130997249/1499704369', 'profile_link_color': '1DA1F2', 'profile_sidebar_border_color': 'C0DEED', 'profile_sidebar_fill_color': 'DDEEF6', 'profile_text_color': '333333', 'profile_use_background_image': True, 'has_extended_profile': True, 'default_profile': True, 'default_profile_image': False, 'following': False, 'follow_request_sent': False, 'notifications': False, 'translator_type': 'none'}, 'geo': None, 'coordinates': None, 'place': None, 'contributors': None, 'retweeted_status': {'created_at': 'Tue May 01 19:32:10 +0000 2018', 'id': 991399901325156353, 'id_str': '991399901325156353', 'text': 'Before &amp; After Watchin Infinity War😩😩 follow me on #cheez https://t.co/9RtuyBCl5U', 'truncated': False, 'entities': {'hashtags': [{'text': 'cheez', 'indices': [55, 61]}], 'symbols': [], 'user_mentions': [], 'urls': [], 'media': [{'id': 991399629089484800, 'id_str': '991399629089484800', 'indices': [62, 85], 'media_url': 'http://pbs.twimg.com/ext_tw_video_thumb/991399629089484800/pu/img/UxDiZZMOrzwNWPZV.jpg', 'media_url_https': 'https://pbs.twimg.com/ext_tw_video_thumb/991399629089484800/pu/img/UxDiZZMOrzwNWPZV.jpg', 'url': 'https://t.co/9RtuyBCl5U', 'display_url': 'pic.twitter.com/9RtuyBCl5U', 'expanded_url': 'https://twitter.com/itsofficialtazz/status/991399901325156353/video/1', 'type': 'photo', 'sizes': {'thumb': {'w': 150, 'h': 150, 'resize': 'crop'}, 'small': {'w': 383, 'h': 680, 'resize': 'fit'}, 'large': {'w': 720, 'h': 1280, 'resize': 'fit'}, 'medium': {'w': 675, 'h': 1200, 'resize': 'fit'}}}]}, 'extended_entities': {'media': [{'id': 991399629089484800, 'id_str': '991399629089484800', 'indices': [62, 85], 'media_url': 'http://pbs.twimg.com/ext_tw_video_thumb/991399629089484800/pu/img/UxDiZZMOrzwNWPZV.jpg', 'media_url_https': 'https://pbs.twimg.com/ext_tw_video_thumb/991399629089484800/pu/img/UxDiZZMOrzwNWPZV.jpg', 'url': 'https://t.co/9RtuyBCl5U', 'display_url': 'pic.twitter.com/9RtuyBCl5U', 'expanded_url': 'https://twitter.com/itsofficialtazz/status/991399901325156353/video/1', 'type': 'video', 'sizes': {'thumb': {'w': 150, 'h': 150, 'resize': 'crop'}, 'small': {'w': 383, 'h': 680, 'resize': 'fit'}, 'large': {'w': 720, 'h': 1280, 'resize': 'fit'}, 'medium': {'w': 675, 'h': 1200, 'resize': 'fit'}}, 'video_info': {'aspect_ratio': [9, 16], 'duration_millis': 15125, 'variants': [{'content_type': 'application/x-mpegURL', 'url': 'https://video.twimg.com/ext_tw_video/991399629089484800/pu/pl/nohHRuwdSWsqWvRv.m3u8?tag=1'}, {'bitrate': 2176000, 'content_type': 'video/mp4', 'url': 'https://video.twimg.com/ext_tw_video/991399629089484800/pu/vid/720x1280/XaksqNaVGSAfDGTX.mp4?tag=1'}, {'bitrate': 832000, 'content_type': 'video/mp4', 'url': 'https://video.twimg.com/ext_tw_video/991399629089484800/pu/vid/360x640/d4pldRC6wVW9nOLr.mp4?tag=1'}, {'bitrate': 256000, 'content_type': 'video/mp4', 'url': 'https://video.twimg.com/ext_tw_video/991399629089484800/pu/vid/180x320/GEolIZj5__F9lX2S.mp4?tag=1'}]}, 'additional_media_info': {'monetizable': False}}]}, 'metadata': {'iso_language_code': 'en', 'result_type': 'recent'}, 'source': '<a href=\"http://www.liveme.com/\" rel=\"nofollow\">Cheez--Short Video</a>', 'in_reply_to_status_id': None, 'in_reply_to_status_id_str': None, 'in_reply_to_user_id': None, 'in_reply_to_user_id_str': None, 'in_reply_to_screen_name': None, 'user': {'id': 612249284, 'id_str': '612249284', 'name': 'Tazz', 'screen_name': 'itsofficialtazz', 'location': 'Los Angeles, CA', 'description': '20 (Actor/Comedian) #WOLFGRAPHIC🐺 Business email:tazzforeal19@gmail.com', 'url': 'https://t.co/BrN9u1bAXP', 'entities': {'url': {'urls': [{'url': 'https://t.co/BrN9u1bAXP', 'expanded_url': 'https://www.youtube.com/channel/UCgLCrI3sdpFuI8tTMXvrQMA', 'display_url': 'youtube.com/channel/UCgLCr…', 'indices': [0, 23]}]}, 'description': {'urls': []}}, 'protected': False, 'followers_count': 6044, 'friends_count': 54, 'listed_count': 6, 'created_at': 'Tue Jun 19 03:59:56 +0000 2012', 'favourites_count': 1439, 'utc_offset': -25200, 'time_zone': 'Pacific Time (US & Canada)', 'geo_enabled': True, 'verified': False, 'statuses_count': 2514, 'lang': 'en', 'contributors_enabled': False, 'is_translator': False, 'is_translation_enabled': False, 'profile_background_color': '000000', 'profile_background_image_url': 'http://abs.twimg.com/images/themes/theme1/bg.png', 'profile_background_image_url_https': 'https://abs.twimg.com/images/themes/theme1/bg.png', 'profile_background_tile': False, 'profile_image_url': 'http://pbs.twimg.com/profile_images/985012782830678016/9US71Btj_normal.jpg', 'profile_image_url_https': 'https://pbs.twimg.com/profile_images/985012782830678016/9US71Btj_normal.jpg', 'profile_banner_url': 'https://pbs.twimg.com/profile_banners/612249284/1453258797', 'profile_link_color': '1B95E0', 'profile_sidebar_border_color': '000000', 'profile_sidebar_fill_color': '000000', 'profile_text_color': '000000', 'profile_use_background_image': False, 'has_extended_profile': True, 'default_profile': False, 'default_profile_image': False, 'following': False, 'follow_request_sent': False, 'notifications': False, 'translator_type': 'none'}, 'geo': None, 'coordinates': None, 'place': None, 'contributors': None, 'is_quote_status': False, 'retweet_count': 293, 'favorite_count': 646, 'favorited': False, 'retweeted': False, 'possibly_sensitive': False, 'lang': 'en'}, 'is_quote_status': False, 'retweet_count': 293, 'favorite_count': 0, 'favorited': False, 'retweeted': False, 'possibly_sensitive': False, 'lang': 'en'} \n",
      "\n"
     ]
    }
   ],
   "source": [
    "#sample json file of tweet\n",
    "r = api.request('search/tweets', {'q':'Infinity War'})\n",
    "for item in r:\n",
    "        print(item,\"\\n\")\n",
    "        break\n",
    "        "
   ]
  },
  {
   "cell_type": "code",
   "execution_count": 50,
   "metadata": {},
   "outputs": [
    {
     "name": "stdout",
     "output_type": "stream",
     "text": [
      "RT @itsofficialtazz: Before &amp; After Watchin Infinity War😩😩 follow me on #cheez https://t.co/9RtuyBCl5U \n",
      "\n"
     ]
    }
   ],
   "source": [
    "for item in r:\n",
    "        print(item['text'],\"\\n\")\n",
    "        break"
   ]
  },
  {
   "cell_type": "code",
   "execution_count": 51,
   "metadata": {},
   "outputs": [
    {
     "data": {
      "text/plain": [
       "\"r = api.request('statuses/filter', {'locations':'-74,40,-73,41'}) #location based\\nfor item in r:\\n        print(item)\\n        break\""
      ]
     },
     "execution_count": 51,
     "metadata": {},
     "output_type": "execute_result"
    }
   ],
   "source": [
    "\"\"\"r = api.request('statuses/filter', {'locations':'-74,40,-73,41'}) #location based\n",
    "for item in r:\n",
    "        print(item)\n",
    "        break\"\"\""
   ]
  },
  {
   "cell_type": "code",
   "execution_count": 54,
   "metadata": {},
   "outputs": [],
   "source": [
    "#for item in r:\n",
    "#        print(item['text'],\"\\tappending to list\\n\")\n",
    "#        list_of_tweets.append(item['text'])"
   ]
  },
  {
   "cell_type": "code",
   "execution_count": 68,
   "metadata": {
    "scrolled": true
   },
   "outputs": [
    {
     "name": "stdout",
     "output_type": "stream",
     "text": [
      "RT @araxceli_: Never forget when Tom Holland accidentally revealed the Infinity War poster https://t.co/tRZUAaa7RF \tappending to list\n",
      "\n",
      "\n",
      "RT @GrantGoldberg: Wong during Infinity War https://t.co/BZB3bwOcjD \tappending to list\n",
      "\n",
      "\n",
      "RT @jennabearby: after watching infinity war for the second time i have come to the conclusion that i must watch it a third. it gets better… \tappending to list\n",
      "\n",
      "\n",
      "RT @starskimth: hello yes i love this and i’m still salty over infinity war uwu https://t.co/x7tMbTni4G \tappending to list\n",
      "\n",
      "\n",
      "RT @YonKippur: \"Who dies in Infinity War?\" https://t.co/8dkwExP0pb \tappending to list\n",
      "\n",
      "\n",
      "Now that I’ve seen Infinity War, all of the memes personally offend me \tappending to list\n",
      "\n",
      "\n",
      "After reading this I’m not going to guess anything. I’m just going to to watch the rest of the movies and see what… https://t.co/bxYkxLlZpz \tappending to list\n",
      "\n",
      "\n",
      "RT @araxceli_: Never forget when Tom Holland accidentally revealed the Infinity War poster https://t.co/tRZUAaa7RF \tappending to list\n",
      "\n",
      "\n",
      "RT @marvelorusse: 🚨 INFINITY WAR SPOILER 🚨\n",
      "\n",
      "“we have a hulk” – tony stark, avengers (2012). \n",
      "\n",
      "“we have a hulk” – loki, avengers: infinity w… \tappending to list\n",
      "\n",
      "\n",
      "RT @PopTartsUS: Delete your account https://t.co/HIA3HsIKz8 \tappending to list\n",
      "\n",
      "\n",
      "me after watching the ending of Infinity War https://t.co/hLBJXsLRJd \tappending to list\n",
      "\n",
      "\n",
      "Estoy maquetando el peluche de #THANOS y os prometo que va a ser ENORME! \n",
      "\n",
      "Si queréis uno para espachurrarlo con am… https://t.co/77tutcmp3c \tappending to list\n",
      "\n",
      "\n",
      "I’m watching infinity war today and i think that i will for sureeee die \tappending to list\n",
      "\n",
      "\n",
      "i know infinity war ain’t been out a week yet, but i can’t wait for next may. i just can’t. \tappending to list\n",
      "\n",
      "\n",
      "Infinity War ::(( \tappending to list\n",
      "\n",
      "\n",
      "RT @_itsmarvin_: Mr premier degrés : désolé de vous contredire mais si ant man touche directement la pierre il seras désintégré aussitôt ht… \tappending to list\n",
      "\n",
      "\n",
      "RT @SpiderlingTom: Tom Holland went to visit a children’s hospital in LA yesterday to help cheer up the kids who couldn’t see infinity war… \tappending to list\n",
      "\n",
      "\n",
      "RT @AlanRafaelR1: México es el pais mas sigue rollo del mundo. Fui al estreno de Infinity War vestido de Spider-man y me encontré a 3 batos… \tappending to list\n",
      "\n",
      "\n",
      "Doctor Stephen Strange | 3 hours\n",
      "(Im still Shakey™ from infinity war ngl)\n",
      "\n",
      "#art #artwork #sketch #pencil… https://t.co/GcbIac4ec0 \tappending to list\n",
      "\n",
      "\n",
      "RT @EsDeMamador: #EsDeMamador Presumir que entendiste el final de Infinity War como si fuera Odisea en el espacio. https://t.co/HXSYR5WlAr \tappending to list\n",
      "\n",
      "\n",
      "RT @araxceli_: Never forget when Tom Holland accidentally revealed the Infinity War poster https://t.co/tRZUAaa7RF \tappending to list\n",
      "\n",
      "\n",
      "going to watch infinity war, see you guys in 2 hours ! \tappending to list\n",
      "\n",
      "\n",
      "RT @MartinoliCuri: Y pensar que algunos dicen que Infinity War es el mejor crossover de la historia: https://t.co/k63ccjvRF5 \tappending to list\n",
      "\n",
      "\n",
      "A quien le agradecemos la gente tan bonita de infinity war 🤤 no se a quien dedicarle mis babas si a thor a capitán… https://t.co/HfuZSdLAE1 \tappending to list\n",
      "\n",
      "\n",
      "RT @ORIGlNALTRILOGY: Jokes on you I hated doctor strange since BEFORE watching infinity war https://t.co/D03biGReKF \tappending to list\n",
      "\n",
      "\n",
      "RT @retornoanime: Avengers: Infinity War, 10 años de Marvel Cinematic Universe. https://t.co/GIqsrlqVlY https://t.co/Ky0R30orin \tappending to list\n",
      "\n",
      "\n",
      "The suit briefcase transformation scene in im2 was really good. But this just takes the CAKE !!! https://t.co/RKfJrRmXsB \tappending to list\n",
      "\n",
      "\n",
      "RT @araxceli_: Never forget when Tom Holland accidentally revealed the Infinity War poster https://t.co/tRZUAaa7RF \tappending to list\n",
      "\n",
      "\n",
      "RT @dededtx: Let’s not forget about Groot, putting his video game down to cut off his arm. That’s true sacrifice. https://t.co/WTYhdtZK5S \tappending to list\n",
      "\n",
      "\n",
      "RT @hemiornegranger: eu lembrando das partes engraçadas de infinity war ai do nada vem as tristes na minha cabeça https://t.co/ZixUzK0fVt \tappending to list\n",
      "\n",
      "\n",
      "RT @GiveMeInternet: Infinity War: How it should have ended https://t.co/5gwciT88Ft \tappending to list\n",
      "\n",
      "\n",
      "RT @retornoanime: Avengers: Infinity War, 10 años de Marvel Cinematic Universe. https://t.co/GIqsrlqVlY https://t.co/Ky0R30orin \tappending to list\n",
      "\n",
      "\n",
      "RT @adambvary: I spoke with the #AvengersInfinityWar screenwriters about THAT ENDING, and some of their answers were surprising! (Obviously… \tappending to list\n",
      "\n",
      "\n",
      "RT @itsallzara: *Kim Kardashian voice*\n",
      "\n",
      "I am shocked and appalled that my dad would go watch Infinity War in 3D without me, this kind of be… \tappending to list\n",
      "\n",
      "\n",
      "I’ll pop the kettle on! https://t.co/lJxp2FGeQg \tappending to list\n",
      "\n",
      "\n",
      "RT @heavenstiel: RT/LIKE TO BE IN AN INFINITY WAR GC\n",
      "\n",
      "*seen IW (or be ok with spoilers)\n",
      "*basically a lot of crying\n",
      "*memes\n",
      "*moral support ht… \tappending to list\n",
      "\n",
      "\n",
      "RT @FiImFeed: if antman was in infinity war https://t.co/XnUIul2aL1 \tappending to list\n",
      "\n",
      "\n",
      "‘Avengers: Infinity War’ Crosses $800 Million Worldwide https://t.co/irI3L0RBG3 via @variety #Avengers \tappending to list\n",
      "\n",
      "\n",
      "RT @krutz_brendan: Windows 95 dies at the end of Infinity War https://t.co/vx0kbrVTp7 \tappending to list\n",
      "\n",
      "\n",
      "MovieBob Reviews – AVENGERS: INFINITY WAR (SPOILER EDITION!!!) https://t.co/cGP0voIbAP \tappending to list\n",
      "\n",
      "\n",
      "RT @rxmansblood: i mean-.... he was the best spider-man way before IW even dropped. yes, Tobey Maguire is the goat and will always be respe… \tappending to list\n",
      "\n",
      "\n",
      "I got \"Captain America\"!\n",
      "\n",
      "Which \"Avengers: Infinity War\" Character Are You? https://t.co/XOHs834Raj https://t.co/YGs0kRXkjY \tappending to list\n",
      "\n",
      "\n",
      "RT @Loulogio_Pi: Ojo podcast comiquero TOP con mi humilde colaboración  🤗 https://t.co/xb0kaCJKpW \tappending to list\n",
      "\n",
      "\n",
      "RT @SeputarAHY: AHY: Infinity War\n",
      "\n",
      "\"Film semacam itu menunjukkan bahwa masing2 memiliki kekuatan, super power. Tetapi pd akhirnya kalau ing… \tappending to list\n",
      "\n",
      "\n",
      "update it was so good!! i cried https://t.co/O3XJjaGKut \tappending to list\n",
      "\n",
      "\n",
      "RT @rxmansblood: the MVPs of infinity war, they were the true heroes. https://t.co/GiI3jO5LWo \tappending to list\n",
      "\n",
      "\n",
      "RT @strangeluc: o ego do stark encontrando o ego do strange em infinity war https://t.co/nTDkrLiGcb \tappending to list\n",
      "\n",
      "\n",
      "Infinity War Part 2 https://t.co/QbWYMWVin3 \tappending to list\n",
      "\n",
      "\n",
      "RT @jacksfilms: new vid:\n",
      "Our Wedding but also Infinity War\n",
      "https://t.co/yzKxnjPFqG https://t.co/OXwCaPztKI \tappending to list\n",
      "\n",
      "\n",
      "RT @agentofshit: bucky and rocket \n",
      "\n",
      "Avengers: Infinity War (2018) https://t.co/0J7pIilVVU \tappending to list\n",
      "\n",
      "\n",
      "RT @GoonerGordo2: Thor's entrance into Wakanda in Infinity War, is the greatest movie entrance since Jack Sparrow sailed into Port Royal on… \tappending to list\n",
      "\n",
      "\n",
      "Glad I saw infinity war so you nerds can stop ruining it for me with ur crappy memes. \tappending to list\n",
      "\n",
      "\n",
      "RT @oodlenoodle_: i die in infinity war \tappending to list\n",
      "\n",
      "\n",
      "My homies ditch me for that movie! 🖕🏽🤙🏽 https://t.co/mjdJ7jZetS \tappending to list\n",
      "\n",
      "\n",
      "RT @loccdawgg: Damn my nigga i can’t just be busy? https://t.co/moSul1wcHt \tappending to list\n",
      "\n",
      "\n",
      "RT @SpringerDLite: So @LeanandCuisine coming at the whole Infinity War cast’s necks and I’m here for it. Lemme take a seat and order some w… \tappending to list\n",
      "\n",
      "\n",
      "#MovieBob Reviews – #AVENGERS: INFINITY WAR (SPOILER EDITION!!!) https://t.co/H52zgxNpM5 https://t.co/2hztVGGaoG \tappending to list\n",
      "\n",
      "\n",
      "Even if Aquaman is decent, it won't be enough following Infinity War (likely to be *at least* the 2nd biggest movie ever).\n",
      "So depressing... \tappending to list\n",
      "\n",
      "\n",
      "RT @araxceli_: Never forget when Tom Holland accidentally revealed the Infinity War poster https://t.co/tRZUAaa7RF \tappending to list\n",
      "\n",
      "\n",
      "RT @tlcyellow: thoughts on infinity war that arent spoilers:\n",
      "\n",
      "- chris evans? HOT\n",
      "- scarlett johansson? HOT\n",
      "- tom holland? HOT\n",
      "- chadwick bo… \tappending to list\n",
      "\n",
      "\n",
      "... https://t.co/F1SIOdJAfo \tappending to list\n",
      "\n",
      "\n",
      "I’ll admit that I enjoyed Infinity War way way more than an adult really… https://t.co/kbSk6kKTuy \tappending to list\n",
      "\n",
      "\n",
      "RT @araxceli_: Never forget when Tom Holland accidentally revealed the Infinity War poster https://t.co/tRZUAaa7RF \tappending to list\n",
      "\n",
      "\n",
      "Reunimos las que más han emocionado por sus extraordinarias secuencias y efectos especiales. \n",
      "\n",
      "https://t.co/m7WI2QjkWq \tappending to list\n",
      "\n",
      "\n",
      "RT @AulliChollos: Tenéis los Funko Pop! de 'Vengadores: Infinity War' desde 10€ (y envio gratis)\n",
      "👉 https://t.co/xmh9qnOwY1 https://t.co/5XU… \tappending to list\n",
      "\n",
      "\n",
      "Tony as Thakur,Thanos as Gabbar,T'challa as Veeru and Natasha as Basanti😂😂😂😂😂😂😂😂😂\n",
      "Someone kill me.This one is hilar… https://t.co/6YCmVjaeJB \tappending to list\n",
      "\n",
      "\n"
     ]
    },
    {
     "name": "stdout",
     "output_type": "stream",
     "text": [
      "RT @araxceli_: Never forget when Tom Holland accidentally revealed the Infinity War poster https://t.co/tRZUAaa7RF \tappending to list\n",
      "\n",
      "\n",
      "RT @MattBellassai: honestly this is the best piece of comedy ever crafted https://t.co/xeLBQOpxEF \tappending to list\n",
      "\n",
      "\n",
      "RT @Ahvk_07: Donc en gros, Hulk il n’a servi à rien dans Infinity War. Le plus fort des Avengers avait peur durant tout le film! Ok cool. \tappending to list\n",
      "\n",
      "\n",
      "RT @OriginalFunko: Coming Soon: Marvel: Avengers: Infinity War!\n",
      "#InfinityWar \n",
      "https://t.co/3YXWclYiVW https://t.co/zLJl8mEvUd \tappending to list\n",
      "\n",
      "\n",
      "RT @thebobbyburns: Infinity War was everything I’ve ever hoped it would be and more. It fully made me reconsider multiple reviews I have ma… \tappending to list\n",
      "\n",
      "\n",
      "Infinity war reminded me of LOTR Return of the King quite often. Fuckin epic \tappending to list\n",
      "\n",
      "\n",
      "RT @araxceli_: Never forget when Tom Holland accidentally revealed the Infinity War poster https://t.co/tRZUAaa7RF \tappending to list\n",
      "\n",
      "\n",
      "RT @FiImFeed: if antman was in infinity war https://t.co/XnUIul2aL1 \tappending to list\n",
      "\n",
      "\n",
      "RT @BuzzFeedEnt: The #AvengersInfinityWar screenwriters explain the shocking ending (Warning: MAJOR #SPOILERS): https://t.co/6ISKLKpQca \tappending to list\n",
      "\n",
      "\n",
      "RT @antosgv: a los que spoilean infinity war les dejo un spoiler de sus vidas nadie los va a amar porque no saben cerrar el orto \tappending to list\n",
      "\n",
      "\n",
      "RT @SenjuSlayer: Anime Avengers: Infinity War\n",
      "\n",
      "creator: Anime Mirichi https://t.co/m2O0kWcjIG \tappending to list\n",
      "\n",
      "\n",
      "RT @truman_pink1: kpop stans has the most versatile accounts on twitter like one moment they be screaming about bts' upcoming comeback or s… \tappending to list\n",
      "\n",
      "\n",
      "About to see Infinity War. Pray for me. \tappending to list\n",
      "\n",
      "\n",
      "RT @araxceli_: Never forget when Tom Holland accidentally revealed the Infinity War poster https://t.co/tRZUAaa7RF \tappending to list\n",
      "\n",
      "\n",
      "RT @occmarveI: The Avengers: Infinity War Cast reacting to fan tweets. https://t.co/F5wlRCVGqV \tappending to list\n",
      "\n",
      "\n",
      "RT @spideysensesss: WOW WE LOVE A KIND AND CARING MAN https://t.co/jjpWMiipp5 \tappending to list\n",
      "\n",
      "\n",
      "RT @MarkJan423: @BootsRiley Avengers: Infinity War (2018) https://t.co/N5mjuYtLIF \tappending to list\n",
      "\n",
      "\n",
      "Tengo sentimientos contradictorios con Infinity War \tappending to list\n",
      "\n",
      "\n",
      "RT @iIluminari: Miss Keisha dies in Infinity War https://t.co/2gSZ1jE6va \tappending to list\n",
      "\n",
      "\n",
      "would you guys be okay if i were to post stuff about infinity war that contained spoilers? \tappending to list\n",
      "\n",
      "\n",
      "AVENGERS INFINITY WAR MOVIE REVIEW: Does It Stand On Its Own?  #breaking https://t.co/n7ccpRdTdf \tappending to list\n",
      "\n",
      "\n",
      "RT @loccdawgg: Damn my nigga i can’t just be busy? https://t.co/moSul1wcHt \tappending to list\n",
      "\n",
      "\n",
      "He vuelto a ver Infinity War y he vuelto a llorar. Incluso peor. \tappending to list\n",
      "\n",
      "\n",
      "y no pienso verla https://t.co/3tv8hIqe2B \tappending to list\n",
      "\n",
      "\n",
      "RT @hollandftmarvel: It's not of ruining you Infinity War, but in the end Alice appears and everything is a vision https://t.co/dnuHHCtzRh \tappending to list\n",
      "\n",
      "\n",
      "RT @JEDIYUTH: ข้อสันนิษฐานว่าด้วยตอนจบของ Avengers: Infinity War (เผยเนื้อเรื่องสำคัญ) https://t.co/HAPEqk0CNJ https://t.co/wkvltCj53Y \tappending to list\n",
      "\n",
      "\n",
      "RT @jacksfilms: YIAY challenge: Infinity War in 4 words. Go.\n",
      "\n",
      "#YIAYwar \tappending to list\n",
      "\n",
      "\n",
      "RT @SpringerDLite: So @LeanandCuisine coming at the whole Infinity War cast’s necks and I’m here for it. Lemme take a seat and order some w… \tappending to list\n",
      "\n",
      "\n",
      "RT @MCAVOHYS: when you finally watch infinity war and all those spoilers with no context finally make sense https://t.co/lKVa9M1Bfd \tappending to list\n",
      "\n",
      "\n",
      "RT @HuzairieYahya96: Siapa peminat setia “Avengers Infinity War”. Ni haa boleh save wallpaper 😍🔥 https://t.co/K7iDG0KE1T \tappending to list\n",
      "\n",
      "\n",
      "RT @movieweb: Elizabeth Olsen Was Upset with Her Infinity War Suit's Cleavage https://t.co/9Atj66ZHOQ https://t.co/B1O6wcJ9jR \tappending to list\n",
      "\n",
      "\n",
      "RT @guydolbey: Marvel Studios really released GotG 2, Homecoming, Ragnarok, Black Panther and Infinity War all within 365 days holy shit \tappending to list\n",
      "\n",
      "\n",
      "RT @speedyjedis: avengers infinity war but tom holland's kazoo avengers theme plays on the background https://t.co/iTjD01zteo \tappending to list\n",
      "\n",
      "\n",
      "RT @twhjackman: someone died while watching Infinity War oh my god https://t.co/1GxPr6uXah \tappending to list\n",
      "\n",
      "\n"
     ]
    }
   ],
   "source": [
    "list_of_tweets = list() #initialisation of list of tweet text alone\n",
    "initial_time = time.time()#to calculate time taken\n",
    "r = api.request('statuses/filter', {'track':'infinity war'})\n",
    "count = 0\n",
    "for item in r.get_iterator():\n",
    "    if 'text' in item:\n",
    "        print(item['text'],\"\\tappending to list\\n\\n\")\n",
    "        list_of_tweets.append(item['text'])\n",
    "        count = count +1\n",
    "        if(count == 100000):\n",
    "#getting a total of 1 lakh tweets fore prediction.\n",
    "            break\n",
    "    elif 'limit' in item:\n",
    "        print ('%d tweets missed' % item['limit']['track'])\n",
    "    elif 'disconnect' in item:\n",
    "        print ('disconnecting because %s' % item['disconnect']['reason'])\n",
    "        break\n",
    "end_time = time.time()"
   ]
  },
  {
   "cell_type": "code",
   "execution_count": null,
   "metadata": {},
   "outputs": [],
   "source": [
    "end_time - initial_time #for pulling 1lahk tweets"
   ]
  },
  {
   "cell_type": "code",
   "execution_count": 69,
   "metadata": {},
   "outputs": [
    {
     "data": {
      "text/plain": [
       "1.248460292816162"
      ]
     },
     "execution_count": 69,
     "metadata": {},
     "output_type": "execute_result"
    }
   ],
   "source": [
    "end_time - initial_time  #to setup connection with twitter"
   ]
  },
  {
   "cell_type": "code",
   "execution_count": 65,
   "metadata": {},
   "outputs": [
    {
     "data": {
      "text/plain": [
       "3.56909441947937"
      ]
     },
     "execution_count": 65,
     "metadata": {},
     "output_type": "execute_result"
    }
   ],
   "source": [
    "end_time - initial_time # for pulling 10 tweets"
   ]
  },
  {
   "cell_type": "code",
   "execution_count": 67,
   "metadata": {},
   "outputs": [
    {
     "data": {
      "text/plain": [
       "17.125741004943848"
      ]
     },
     "execution_count": 67,
     "metadata": {},
     "output_type": "execute_result"
    }
   ],
   "source": [
    "end_time - initial_time #for pulling 100 tweets"
   ]
  },
  {
   "cell_type": "code",
   "execution_count": 39,
   "metadata": {},
   "outputs": [
    {
     "data": {
      "text/plain": [
       "100"
      ]
     },
     "execution_count": 39,
     "metadata": {},
     "output_type": "execute_result"
    }
   ],
   "source": [
    "len(list_of_tweets)"
   ]
  },
  {
   "cell_type": "code",
   "execution_count": 14,
   "metadata": {},
   "outputs": [],
   "source": [
    "#seperating usernames and having only tweet\n",
    "tweet_only = list()\n",
    "#find function str1.find(str2) returns index"
   ]
  },
  {
   "cell_type": "code",
   "execution_count": 15,
   "metadata": {},
   "outputs": [
    {
     "data": {
      "text/plain": [
       "['RT @SeputarAHY: AHY: Infinity War\\n\\n\"Film semacam itu menunjukkan bahwa masing2 memiliki kekuatan, super power. Tetapi pd akhirnya kalau ing…',\n",
       " 'RT @IAmPhillyC: To all the \"where\\'s the backstory to infinity war\" crowd who\\'ve been living under a rock the last 10 years, here\\'s your bac…',\n",
       " 'RT @araxceli_: Never forget when Tom Holland accidentally revealed the Infinity War poster https://t.co/tRZUAaa7RF',\n",
       " 'RT @ClutchLikeRomo: Remember when yall said it wouldnt outsell BP LMFAOOOOOOOOOOOOOOOOOOO because “it had the culture behind it” LMFAOOOOOO…',\n",
       " 'RT @itanimeirl: [SPOILER] Infinity War alternate ending https://t.co/PAsyoLbWCI https://t.co/fcJZzBBc0u',\n",
       " 'RT @zbatatrux: Le premier que je vois mal parler de Infinity War je pose un tête direct',\n",
       " 'RT @Wismichu: Hoy he visto visto Infinity War por tercera vez xdddddddddddddddddddddddddddddddddddddddddddddddddddddddddddddddddddddddddddd…',\n",
       " 'RT @mnmtwinz: Avengers: Infinity War ending but with SpongeBob clips https://t.co/5tn5Xapa6f',\n",
       " 'tomorrow at 7 p.m. we have 2 tickets to Infinity War for $27.34 text me if you want em. they’re great seats, near the back in the center.',\n",
       " 'RT @potterculto: tom holland improvisou nada menos que uma das cenas mais dolorosas e intensas de infinity war, se alguém me falar que esse…']"
      ]
     },
     "execution_count": 15,
     "metadata": {},
     "output_type": "execute_result"
    }
   ],
   "source": [
    "list_of_tweets"
   ]
  },
  {
   "cell_type": "code",
   "execution_count": 16,
   "metadata": {},
   "outputs": [
    {
     "name": "stdout",
     "output_type": "stream",
     "text": [
      " AHY: Infinity War\n",
      "\n",
      "\"Film semacam itu menunjukkan bahwa masing2 memiliki kekuatan, super power. Tetapi pd akhirnya kalau ing \n",
      "\n",
      " To all the \"where's the backstory to infinity war\" crowd who've been living under a rock the last 10 years, here's your bac \n",
      "\n",
      " Never forget when Tom Holland accidentally revealed the Infinity War poster https://t.co/tRZUAaa7R \n",
      "\n",
      " Remember when yall said it wouldnt outsell BP LMFAOOOOOOOOOOOOOOOOOOO because “it had the culture behind it” LMFAOOOOOO \n",
      "\n",
      " [SPOILER] Infinity War alternate ending https://t.co/PAsyoLbWCI https://t.co/fcJZzBBc0 \n",
      "\n",
      " Le premier que je vois mal parler de Infinity War je pose un tête direc \n",
      "\n",
      " Hoy he visto visto Infinity War por tercera vez xdddddddddddddddddddddddddddddddddddddddddddddddddddddddddddddddddddddddddddd \n",
      "\n",
      " Avengers: Infinity War ending but with SpongeBob clips https://t.co/5tn5Xapa6 \n",
      "\n",
      "tomorrow at 7 p.m. we have 2 tickets to Infinity War for $27.34 text me if you want em. they’re great seats, near the back in the center \n",
      "\n",
      " tom holland improvisou nada menos que uma das cenas mais dolorosas e intensas de infinity war, se alguém me falar que esse \n",
      "\n"
     ]
    }
   ],
   "source": [
    "for item in list_of_tweets:\n",
    "    #print(item,\"\\n\")\n",
    "    index_of_colun = item.find(\":\")\n",
    "    #print(index_of_colun,\"\\n\")\n",
    "    item = item[index_of_colun+1:-1]\n",
    "    tweet_only.append(item)\n",
    "    #print (item , \"\\n\")\n",
    "    "
   ]
  },
  {
   "cell_type": "code",
   "execution_count": 17,
   "metadata": {},
   "outputs": [
    {
     "data": {
      "text/plain": [
       "['RT @SeputarAHY: AHY: Infinity War\\n\\n\"Film semacam itu menunjukkan bahwa masing2 memiliki kekuatan, super power. Tetapi pd akhirnya kalau ing…',\n",
       " 'RT @IAmPhillyC: To all the \"where\\'s the backstory to infinity war\" crowd who\\'ve been living under a rock the last 10 years, here\\'s your bac…',\n",
       " 'RT @araxceli_: Never forget when Tom Holland accidentally revealed the Infinity War poster https://t.co/tRZUAaa7RF',\n",
       " 'RT @ClutchLikeRomo: Remember when yall said it wouldnt outsell BP LMFAOOOOOOOOOOOOOOOOOOO because “it had the culture behind it” LMFAOOOOOO…',\n",
       " 'RT @itanimeirl: [SPOILER] Infinity War alternate ending https://t.co/PAsyoLbWCI https://t.co/fcJZzBBc0u',\n",
       " 'RT @zbatatrux: Le premier que je vois mal parler de Infinity War je pose un tête direct',\n",
       " 'RT @Wismichu: Hoy he visto visto Infinity War por tercera vez xdddddddddddddddddddddddddddddddddddddddddddddddddddddddddddddddddddddddddddd…',\n",
       " 'RT @mnmtwinz: Avengers: Infinity War ending but with SpongeBob clips https://t.co/5tn5Xapa6f',\n",
       " 'tomorrow at 7 p.m. we have 2 tickets to Infinity War for $27.34 text me if you want em. they’re great seats, near the back in the center.',\n",
       " 'RT @potterculto: tom holland improvisou nada menos que uma das cenas mais dolorosas e intensas de infinity war, se alguém me falar que esse…']"
      ]
     },
     "execution_count": 17,
     "metadata": {},
     "output_type": "execute_result"
    }
   ],
   "source": [
    "list_of_tweets"
   ]
  },
  {
   "cell_type": "code",
   "execution_count": 18,
   "metadata": {},
   "outputs": [
    {
     "data": {
      "text/plain": [
       "[' AHY: Infinity War\\n\\n\"Film semacam itu menunjukkan bahwa masing2 memiliki kekuatan, super power. Tetapi pd akhirnya kalau ing',\n",
       " ' To all the \"where\\'s the backstory to infinity war\" crowd who\\'ve been living under a rock the last 10 years, here\\'s your bac',\n",
       " ' Never forget when Tom Holland accidentally revealed the Infinity War poster https://t.co/tRZUAaa7R',\n",
       " ' Remember when yall said it wouldnt outsell BP LMFAOOOOOOOOOOOOOOOOOOO because “it had the culture behind it” LMFAOOOOOO',\n",
       " ' [SPOILER] Infinity War alternate ending https://t.co/PAsyoLbWCI https://t.co/fcJZzBBc0',\n",
       " ' Le premier que je vois mal parler de Infinity War je pose un tête direc',\n",
       " ' Hoy he visto visto Infinity War por tercera vez xdddddddddddddddddddddddddddddddddddddddddddddddddddddddddddddddddddddddddddd',\n",
       " ' Avengers: Infinity War ending but with SpongeBob clips https://t.co/5tn5Xapa6',\n",
       " 'tomorrow at 7 p.m. we have 2 tickets to Infinity War for $27.34 text me if you want em. they’re great seats, near the back in the center',\n",
       " ' tom holland improvisou nada menos que uma das cenas mais dolorosas e intensas de infinity war, se alguém me falar que esse']"
      ]
     },
     "execution_count": 18,
     "metadata": {},
     "output_type": "execute_result"
    }
   ],
   "source": [
    "tweet_only"
   ]
  },
  {
   "cell_type": "code",
   "execution_count": 70,
   "metadata": {},
   "outputs": [
    {
     "data": {
      "text/plain": [
       "10"
      ]
     },
     "execution_count": 70,
     "metadata": {},
     "output_type": "execute_result"
    }
   ],
   "source": [
    "len(tweet_only)"
   ]
  },
  {
   "cell_type": "code",
   "execution_count": 71,
   "metadata": {},
   "outputs": [],
   "source": [
    "#np_list_of_tweets = np.array(list_of_tweets)"
   ]
  },
  {
   "cell_type": "code",
   "execution_count": 72,
   "metadata": {},
   "outputs": [
    {
     "data": {
      "text/plain": [
       "' Remember when yall said it wouldnt outsell BP LMFAOOOOOOOOOOOOOOOOOOO because “it had the culture behind it” LMFAOOOOOO'"
      ]
     },
     "execution_count": 72,
     "metadata": {},
     "output_type": "execute_result"
    }
   ],
   "source": [
    "tweet_only[3]"
   ]
  },
  {
   "cell_type": "code",
   "execution_count": 75,
   "metadata": {},
   "outputs": [
    {
     "data": {
      "text/plain": [
       "[' AHY: Infinity War\\n\\n\"Film semacam itu menunjukkan bahwa masing2 memiliki kekuatan, super power. Tetapi pd akhirnya kalau ing',\n",
       " ' To all the \"where\\'s the backstory to infinity war\" crowd who\\'ve been living under a rock the last 10 years, here\\'s your bac',\n",
       " ' Never forget when Tom Holland accidentally revealed the Infinity War poster https://t.co/tRZUAaa7R',\n",
       " ' Remember when yall said it wouldnt outsell BP LMFAOOOOOOOOOOOOOOOOOOO because “it had the culture behind it” LMFAOOOOOO',\n",
       " ' [SPOILER] Infinity War alternate ending https://t.co/PAsyoLbWCI https://t.co/fcJZzBBc0',\n",
       " ' Le premier que je vois mal parler de Infinity War je pose un tête direc',\n",
       " ' Hoy he visto visto Infinity War por tercera vez xdddddddddddddddddddddddddddddddddddddddddddddddddddddddddddddddddddddddddddd',\n",
       " ' Avengers: Infinity War ending but with SpongeBob clips https://t.co/5tn5Xapa6',\n",
       " 'tomorrow at 7 p.m. we have 2 tickets to Infinity War for $27.34 text me if you want em. they’re great seats, near the back in the center',\n",
       " ' tom holland improvisou nada menos que uma das cenas mais dolorosas e intensas de infinity war, se alguém me falar que esse']"
      ]
     },
     "execution_count": 75,
     "metadata": {},
     "output_type": "execute_result"
    }
   ],
   "source": [
    "tweet_only"
   ]
  },
  {
   "cell_type": "code",
   "execution_count": 85,
   "metadata": {},
   "outputs": [],
   "source": [
    "#to save as text file of tweets\n",
    "f = open(\"final_text_tweets.txt\", \"w\")\n",
    "mylist = tweet_only\n",
    "f.write(\"\\n\".join(map(lambda x: str(x), mylist)))\n",
    "f.close()"
   ]
  },
  {
   "cell_type": "code",
   "execution_count": 80,
   "metadata": {},
   "outputs": [],
   "source": [
    "import pickle\n",
    "#instead of saving the text directly as data I have used pickle which stores the data in compressed format.\n",
    "with open('outfile', 'wb') as fp:\n",
    "    pickle.dump(tweet_only, fp)"
   ]
  },
  {
   "cell_type": "code",
   "execution_count": 81,
   "metadata": {},
   "outputs": [],
   "source": [
    "#to load it back as list\n",
    "with open ('outfile', 'rb') as fp:\n",
    "    itemlist = pickle.load(fp)"
   ]
  },
  {
   "cell_type": "code",
   "execution_count": 29,
   "metadata": {},
   "outputs": [],
   "source": [
    "?api.request()"
   ]
  },
  {
   "cell_type": "code",
   "execution_count": 59,
   "metadata": {},
   "outputs": [
    {
     "ename": "TypeError",
     "evalue": "'module' object is not callable",
     "output_type": "error",
     "traceback": [
      "\u001b[1;31m---------------------------------------------------------------------------\u001b[0m",
      "\u001b[1;31mTypeError\u001b[0m                                 Traceback (most recent call last)",
      "\u001b[1;32m<ipython-input-59-e93d56e4ca00>\u001b[0m in \u001b[0;36m<module>\u001b[1;34m()\u001b[0m\n\u001b[1;32m----> 1\u001b[1;33m \u001b[0mtime\u001b[0m\u001b[1;33m(\u001b[0m\u001b[1;33m)\u001b[0m\u001b[1;33m\u001b[0m\u001b[0m\n\u001b[0m",
      "\u001b[1;31mTypeError\u001b[0m: 'module' object is not callable"
     ]
    }
   ],
   "source": [
    "time()"
   ]
  },
  {
   "cell_type": "code",
   "execution_count": 63,
   "metadata": {},
   "outputs": [
    {
     "data": {
      "text/plain": [
       "1525289508.6756852"
      ]
     },
     "execution_count": 63,
     "metadata": {},
     "output_type": "execute_result"
    }
   ],
   "source": [
    "time.time()"
   ]
  },
  {
   "cell_type": "code",
   "execution_count": null,
   "metadata": {},
   "outputs": [],
   "source": []
  },
  {
   "cell_type": "code",
   "execution_count": null,
   "metadata": {},
   "outputs": [],
   "source": []
  },
  {
   "cell_type": "code",
   "execution_count": null,
   "metadata": {},
   "outputs": [],
   "source": []
  }
 ],
 "metadata": {
  "kernelspec": {
   "display_name": "Python 3",
   "language": "python",
   "name": "python3"
  },
  "language_info": {
   "codemirror_mode": {
    "name": "ipython",
    "version": 3
   },
   "file_extension": ".py",
   "mimetype": "text/x-python",
   "name": "python",
   "nbconvert_exporter": "python",
   "pygments_lexer": "ipython3",
   "version": "3.6.1"
  }
 },
 "nbformat": 4,
 "nbformat_minor": 2
}
